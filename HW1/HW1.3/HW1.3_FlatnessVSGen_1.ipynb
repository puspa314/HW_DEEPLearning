{
 "cells": [
  {
   "cell_type": "code",
   "execution_count": 1,
   "metadata": {},
   "outputs": [],
   "source": [
    "import torch\n",
    "import torch.nn as nn\n",
    "import torch.nn.functional as F\n",
    "import torchvision\n",
    "import torchvision.transforms as transforms\n",
    "import matplotlib.pyplot as plt\n",
    "import numpy as np\n",
    "from torch.nn.utils import parameters_to_vector, vector_to_parameters\n",
    "from torch.autograd import Variable\n",
    "import tqdm as notebook_tqdm"
   ]
  },
  {
   "cell_type": "code",
   "execution_count": 2,
   "metadata": {},
   "outputs": [
    {
     "name": "stdout",
     "output_type": "stream",
     "text": [
      "train_dataset size: 60000 \n",
      "test_dataset size: 10000\n"
     ]
    }
   ],
   "source": [
    "train_dataset = torchvision.datasets.MNIST(root='./data', \n",
    "                                           train=True, \n",
    "                                           transform=transforms.ToTensor(),  \n",
    "                                           download=False)\n",
    "\n",
    "test_dataset = torchvision.datasets.MNIST(root='./data', \n",
    "                                          train=False, \n",
    "                                          transform=transforms.ToTensor())\n",
    "\n",
    "print(\"train_dataset size:\", len(train_dataset),\"\\ntest_dataset size:\", len(test_dataset))"
   ]
  },
  {
   "cell_type": "code",
   "execution_count": 3,
   "metadata": {},
   "outputs": [],
   "source": [
    "def train_loader(batch_size):\n",
    "    train_loader = torch.utils.data.DataLoader(dataset=train_dataset, \n",
    "                                           batch_size = batch_size, \n",
    "                                           shuffle=True)\n",
    "    return train_loader\n",
    "\n",
    "\n",
    "def test_loader(batch_size):\n",
    "    test_loader = torch.utils.data.DataLoader(dataset=test_dataset, \n",
    "                                          batch_size=batch_size, \n",
    "                                          shuffle=False)\n",
    "    return test_loader"
   ]
  },
  {
   "cell_type": "code",
   "execution_count": 4,
   "metadata": {},
   "outputs": [],
   "source": [
    "class M1(nn.Module):\n",
    "  def __init__(self,):\n",
    "        super(M1, self).__init__()\n",
    "        self.fc1 = nn.Linear(784, 500)\n",
    "        self.fc2 = nn.Linear(500, 10)\n",
    "        \n",
    "  def forward(self, x):\n",
    "        # flatten as one dimension\n",
    "        x = x.reshape(x.shape[0], -1)\n",
    "        x = F.relu(self.fc1(x))\n",
    "        x = self.fc2(x)\n",
    "        return x\n",
    "        "
   ]
  },
  {
   "cell_type": "code",
   "execution_count": 5,
   "metadata": {},
   "outputs": [
    {
     "data": {
      "text/plain": [
       "10"
      ]
     },
     "execution_count": 5,
     "metadata": {},
     "output_type": "execute_result"
    }
   ],
   "source": [
    "len(train_loader(6000))"
   ]
  },
  {
   "cell_type": "code",
   "execution_count": 6,
   "metadata": {},
   "outputs": [],
   "source": [
    "def trainFunc(model,num_epochs,train_batch_size,status):\n",
    "    model.train()\n",
    "    print('strated')\n",
    "    train_load = train_loader(train_batch_size)\n",
    "    n_total_steps = len(train_load)\n",
    "    train_losses = []\n",
    "    train_epoch = []\n",
    "    train_acc = []\n",
    "    not_converged =True\n",
    "    epoch = 0\n",
    "    trainAvgLossArr = []\n",
    "    trainAvgAccArr = []\n",
    "\n",
    "    while not_converged:\n",
    "        epoch += 1\n",
    "        n_correct = 0\n",
    "        n_samples = 0\n",
    "        lossSum =0\n",
    "        totalacc =0\n",
    "\n",
    "        for i, (images, labels) in enumerate(train_load):  \n",
    "            \n",
    "            images, labels = Variable(images),Variable(labels)\n",
    "            optimizer.zero_grad()\n",
    "            prediction = model(images)\n",
    "            loss = loss_func(prediction, labels)\n",
    "            lossSum += loss.detach().numpy()\n",
    "          \n",
    "            loss.backward()\n",
    "            \n",
    "            optimizer.step()\n",
    "\n",
    "            _, predicted = torch.max(prediction.data, 1)\n",
    "            n_samples += labels.size(0)\n",
    "            n_correct += (predicted == labels).sum().item()\n",
    "            acc = 100.0 * n_correct / n_samples\n",
    "            totalacc += acc\n",
    "\n",
    "            train_losses.append(loss.item())\n",
    "            train_acc.append(acc)\n",
    "            train_epoch.append(epoch)\n",
    "\n",
    "            if (i+1) % status == 0:\n",
    "                print (f'Train O/P: Epoch [{epoch}/{num_epochs}], Step [{i+1}/{n_total_steps}], Loss: {loss.item():.4f}',end= '\\r',flush = True)\n",
    "   \n",
    "                if epoch == num_epochs:\n",
    "                        print(\"Max Epoch Reached\")\n",
    "                        not_converged = False\n",
    "                elif (epoch > 5) and  (train_losses[-1] < 0.001):\n",
    "                    if abs(train_losses[-3] - train_losses[-2]) < 1.0e-05 and abs(train_losses[-2] - train_losses[-1]) < 1.0e-05:\n",
    "                        print(\"Convergeance reached for loss:\",train_losses[-1])\n",
    "                        not_converged = False\n",
    "\n",
    "       \n",
    "        epochAcc = totalacc/(i+1)\n",
    "        trainAvgLossArr.append(lossSum/n_total_steps)    \n",
    "        trainAvgAccArr.append(epochAcc)\n",
    "\n",
    "    return train_epoch,train_losses,train_acc,trainAvgLossArr,trainAvgAccArr"
   ]
  },
  {
   "cell_type": "code",
   "execution_count": 8,
   "metadata": {},
   "outputs": [
    {
     "name": "stdout",
     "output_type": "stream",
     "text": [
      "Total no of parameters in Model with batch size=64 is:397510\n"
     ]
    }
   ],
   "source": [
    "torch.manual_seed(1)\n",
    "\n",
    "learning_rate = 0.0015\n",
    "mBatch1 = M1()\n",
    "loss_func = nn.CrossEntropyLoss()\n",
    "weight_decay_val = 1e-4\n",
    "\n",
    "optimizer = torch.optim.Adam(mBatch1.parameters(), lr=learning_rate, weight_decay = weight_decay_val)\n",
    "\n",
    "\n",
    "a=[]\n",
    "for i in mBatch1.parameters():\n",
    "    a.append(torch.numel(i))\n",
    "print(f'Total no of parameters in Model with batch size={64} is:{np.sum(a)}')"
   ]
  },
  {
   "cell_type": "code",
   "execution_count": 9,
   "metadata": {},
   "outputs": [
    {
     "name": "stdout",
     "output_type": "stream",
     "text": [
      "strated\n",
      "Max Epoch Reached[5/5], Step [500/938], Loss: 0.0607\n"
     ]
    }
   ],
   "source": [
    "max_epochs = 5\n",
    "train_batch_size = 64\n",
    "status = 500\n",
    "B1_train_epoch,B1_train_losses,B1_train_acc,B1trainAvgLossArr,B1trainAvgAccArr  = trainFunc(mBatch1,max_epochs,train_batch_size,status)"
   ]
  },
  {
   "cell_type": "code",
   "execution_count": 10,
   "metadata": {},
   "outputs": [
    {
     "name": "stdout",
     "output_type": "stream",
     "text": [
      "Total no of parameters in Model with batch_size=1000 is:397510\n"
     ]
    }
   ],
   "source": [
    "torch.manual_seed(1)\n",
    "\n",
    "learning_rate = 0.0001\n",
    "mBatch2 = M1()\n",
    "loss_func = nn.CrossEntropyLoss()\n",
    "weight_decay_val = 1e-4\n",
    "optimizer = torch.optim.Adam(mBatch2.parameters(), lr=learning_rate, weight_decay=weight_decay_val) \n",
    "\n",
    "a=[]\n",
    "for i in mBatch2.parameters():\n",
    "    a.append(torch.numel(i))\n",
    "print(f'Total no of parameters in Model with batch_size={1000} is:{np.sum(a)}')"
   ]
  },
  {
   "cell_type": "code",
   "execution_count": 11,
   "metadata": {},
   "outputs": [
    {
     "name": "stdout",
     "output_type": "stream",
     "text": [
      "strated\n",
      "Max Epoch Reached[5/5], Step [10/60], Loss: 0.5009\n",
      "Max Epoch Reached[5/5], Step [20/60], Loss: 0.4638\n",
      "Max Epoch Reached[5/5], Step [30/60], Loss: 0.4239\n",
      "Max Epoch Reached[5/5], Step [40/60], Loss: 0.4387\n",
      "Max Epoch Reached[5/5], Step [50/60], Loss: 0.4361\n",
      "Max Epoch Reached[5/5], Step [60/60], Loss: 0.4106\n"
     ]
    }
   ],
   "source": [
    "max_epochs = 5\n",
    "train_batch_size = 1000\n",
    "status = 10\n",
    "B2_train_epoch,B2_train_losses,B2_train_acc,B2trainAvgLossArr,B2trainAvgAccArr = trainFunc(mBatch2,max_epochs,train_batch_size,status)"
   ]
  },
  {
   "cell_type": "code",
   "execution_count": 12,
   "metadata": {},
   "outputs": [],
   "source": [
    "epochArr = np.array(np.linspace(1,max_epochs,max_epochs))"
   ]
  },
  {
   "cell_type": "code",
   "execution_count": 13,
   "metadata": {},
   "outputs": [
    {
     "data": {
      "image/png": "[encoded data removed]",
      "text/plain": [
       "<Figure size 2000x800 with 1 Axes>"
      ]
     },
     "metadata": {},
     "output_type": "display_data"
    }
   ],
   "source": [
    "plt.figure(figsize=(20, 8))\n",
    "plt.plot(epochArr,B1trainAvgLossArr,color=\"blue\")\n",
    "plt.plot(epochArr,B2trainAvgLossArr,color=\"orange\")\n",
    "plt.title('Batch1 & Bathc2 Loss VS Epoch')\n",
    "plt.legend(['Batch 1','Batch 2'])\n",
    "plt.xlabel ('Epoch')\n",
    "plt.ylabel ('loss')\n",
    "plt.show()"
   ]
  },
  {
   "cell_type": "code",
   "execution_count": 14,
   "metadata": {},
   "outputs": [
    {
     "name": "stdout",
     "output_type": "stream",
     "text": [
      "tensor([-1.0365e-39, -2.5790e-39, -3.7303e-38,  ..., -4.6723e-02,\n",
      "         1.1930e-01, -8.0543e-03], grad_fn=<CatBackward0>) \n",
      "len: 397510\n"
     ]
    }
   ],
   "source": [
    "batch1_param = torch.nn.utils.parameters_to_vector(mBatch1.parameters())\n",
    "print(batch1_param,'\\nlen:',len(batch1_param))"
   ]
  },
  {
   "cell_type": "code",
   "execution_count": 15,
   "metadata": {},
   "outputs": [
    {
     "name": "stdout",
     "output_type": "stream",
     "text": [
      "tensor([ 1.2313e-03, -5.0379e-04, -8.0190e-09,  ...,  5.2469e-02,\n",
      "        -6.5171e-02, -2.0972e-02], grad_fn=<CatBackward0>) \n",
      "len: 397510\n"
     ]
    }
   ],
   "source": [
    "batch2_param = torch.nn.utils.parameters_to_vector(mBatch2.parameters())\n",
    "print(batch2_param,'\\nlen:',len(batch2_param))"
   ]
  },
  {
   "cell_type": "code",
   "execution_count": 16,
   "metadata": {},
   "outputs": [
    {
     "name": "stdout",
     "output_type": "stream",
     "text": [
      "[-2.         -1.86666667 -1.73333333 -1.6        -1.46666667 -1.33333333\n",
      " -1.2        -1.06666667 -0.93333333 -0.8        -0.66666667 -0.53333333\n",
      " -0.4        -0.26666667 -0.13333333  0.          0.13333333  0.26666667\n",
      "  0.4         0.53333333  0.66666667  0.8         0.93333333  1.06666667\n",
      "  1.2         1.33333333  1.46666667  1.6         1.73333333  1.86666667\n",
      "  2.        ]\n"
     ]
    }
   ],
   "source": [
    "alpha = np.linspace(-2.0, 2.0, num=31)\n",
    "print(alpha)"
   ]
  },
  {
   "cell_type": "code",
   "execution_count": 37,
   "metadata": {},
   "outputs": [],
   "source": [
    "# Initialize the models\n",
    "model1 = M1()  # First model\n",
    "model2 = M1()  # Second model\n",
    "# Now, you can safely access the parameters of the models\n",
    "batch1_param = torch.nn.utils.parameters_to_vector(model1.parameters()).detach()\n",
    "batch2_param = torch.nn.utils.parameters_to_vector(model2.parameters()).detach()\n",
    "\n",
    "# Continue with your code\n",
    "thetaArr = []\n"
   ]
  },
  {
   "cell_type": "code",
   "execution_count": 38,
   "metadata": {},
   "outputs": [],
   "source": [
    "def testFunction(model,loss_func,testLoader,test_batch_size): \n",
    "    test_loader = testLoader\n",
    "    test_load = test_loader(test_batch_size)\n",
    "    model.eval()\n",
    "    with torch.no_grad():\n",
    "        n_correct = 0\n",
    "        n_samples = 0\n",
    "        testLoss = 0\n",
    "        count =0\n",
    "        for images, labels in test_load:\n",
    "            images, labels = Variable(images),Variable(labels)\n",
    "            \n",
    "            prediction = model(images)\n",
    "            testLoss += loss_func(prediction,labels).item()\n",
    "            # max returns (value ,index)\n",
    "            _, predicted = torch.max(prediction.data, 1)\n",
    "            n_samples += labels.size(0)\n",
    "            n_correct += (predicted == labels).sum().item()\n",
    "            count +=1\n",
    "\n",
    "    netTest_loss = testLoss/count\n",
    "    netTest_acc1 = 100.0 * n_correct / n_samples\n",
    "    print(f'Accuracy of the network on the test images: {netTest_acc1} & Test Loss: {netTest_loss} %', end=\"\\r\", flush= True)\n",
    "    return netTest_acc1, netTest_loss"
   ]
  },
  {
   "cell_type": "code",
   "execution_count": 39,
   "metadata": {},
   "outputs": [],
   "source": [
    "import copy"
   ]
  },
  {
   "cell_type": "code",
   "execution_count": 44,
   "metadata": {},
   "outputs": [],
   "source": [
    "modelsTrainLossArr = []\n",
    "modelsTrainAccArr = []\n",
    "modelsTestLossArr = []\n",
    "modelsTestAccArr = []\n",
    "\n",
    "for i in range(len(thetaArr)):\n",
    "    theta = (1 - alpha[i]) * batch1_param + alpha[i] * batch2_param\n",
    "    \n",
    "    # Initialize model and copy parameters\n",
    "    j = M1()\n",
    "    torch.nn.utils.vector_to_parameters(theta, j.parameters())\n",
    "    \n",
    "    # Loss function and optimizer\n",
    "    loss_func = nn.CrossEntropyLoss()\n",
    "    optimizer = torch.optim.Adam(j.parameters(), lr=0.0004, weight_decay=1e-4)\n",
    "\n",
    "    # Print the total number of parameters\n",
    "    param_count = sum(torch.numel(k) for k in j.parameters())\n",
    "    print(f'Total no of parameters in Model Theta {i} is: {param_count}')\n",
    "\n",
    "    # Train the model\n",
    "    max_epochs = 1\n",
    "    train_batch_size = 500\n",
    "    status = 100\n",
    "    T_train_epoch, T_train_losses, T_train_acc, T_trainAvgLossArr, T_trainAvgAccArr = trainFunc(\n",
    "        j, max_epochs, train_batch_size, status)\n",
    "\n",
    "    # Append only the final average loss and accuracy (not the whole list)\n",
    "    modelsTrainLossArr.append(T_trainAvgLossArr[-1])  # Append last epoch loss\n",
    "    modelsTrainAccArr.append(T_trainAvgAccArr[-1])    # Append last epoch accuracy\n",
    "\n",
    "    # Test the model\n",
    "    test_batch_size = 500\n",
    "    T_acc, T_testLoss = testFunction(j, loss_func, test_loader, test_batch_size)\n",
    "    \n",
    "    # Append test results\n",
    "    modelsTestAccArr.append(T_acc)\n",
    "    modelsTestLossArr.append(T_testLoss)\n"
   ]
  },
  {
   "cell_type": "code",
   "execution_count": 45,
   "metadata": {},
   "outputs": [],
   "source": [
    "def meanScore(dataArr):\n",
    "    meanModelData = []\n",
    "    for i in range (len(dataArr)):\n",
    "        meanScore = np.mean(dataArr[i])\n",
    "        meanModelData.append(meanScore)\n",
    "    return meanModelData\n",
    "\n",
    "def minScore(dataArr):\n",
    "    minModelScore = []\n",
    "    for i in range (len(dataArr)):\n",
    "        minScore = np.mean(dataArr[i])\n",
    "        minModelScore.append(minScore)\n",
    "    return minModelScore\n",
    "\n",
    "def maxScore(dataArr):\n",
    "    maxModelScore = []\n",
    "    for i in range (len(dataArr)):\n",
    "        maxScore = np.max(dataArr[i])\n",
    "        maxModelScore.append(maxScore)\n",
    "    return maxModelScore\n"
   ]
  },
  {
   "cell_type": "code",
   "execution_count": 47,
   "metadata": {},
   "outputs": [
    {
     "ename": "ValueError",
     "evalue": "x and y must have same first dimension, but have shapes (31,) and (0,)",
     "output_type": "error",
     "traceback": [
      "\u001b[1;31m---------------------------------------------------------------------------\u001b[0m",
      "\u001b[1;31mValueError\u001b[0m                                Traceback (most recent call last)",
      "Cell \u001b[1;32mIn[47], line 4\u001b[0m\n\u001b[0;32m      1\u001b[0m fig, ax \u001b[38;5;241m=\u001b[39m plt\u001b[38;5;241m.\u001b[39msubplots()\n\u001b[0;32m      3\u001b[0m \u001b[38;5;66;03m# Plot train and test loss on the primary y-axis\u001b[39;00m\n\u001b[1;32m----> 4\u001b[0m \u001b[43max\u001b[49m\u001b[38;5;241;43m.\u001b[39;49m\u001b[43mplot\u001b[49m\u001b[43m(\u001b[49m\u001b[43malpha\u001b[49m\u001b[43m,\u001b[49m\u001b[43m \u001b[49m\u001b[43mmodelsTrainLossArr\u001b[49m\u001b[43m,\u001b[49m\u001b[43m \u001b[49m\u001b[43mcolor\u001b[49m\u001b[38;5;241;43m=\u001b[39;49m\u001b[38;5;124;43m\"\u001b[39;49m\u001b[38;5;124;43mblue\u001b[39;49m\u001b[38;5;124;43m\"\u001b[39;49m\u001b[43m,\u001b[49m\u001b[43m \u001b[49m\u001b[43mlinestyle\u001b[49m\u001b[38;5;241;43m=\u001b[39;49m\u001b[38;5;124;43m'\u001b[39;49m\u001b[38;5;124;43mdashed\u001b[39;49m\u001b[38;5;124;43m'\u001b[39;49m\u001b[43m,\u001b[49m\u001b[43m \u001b[49m\u001b[43mmarker\u001b[49m\u001b[38;5;241;43m=\u001b[39;49m\u001b[38;5;124;43m\"\u001b[39;49m\u001b[38;5;124;43mo\u001b[39;49m\u001b[38;5;124;43m\"\u001b[39;49m\u001b[43m,\u001b[49m\u001b[43m \u001b[49m\u001b[43mlabel\u001b[49m\u001b[38;5;241;43m=\u001b[39;49m\u001b[38;5;124;43m'\u001b[39;49m\u001b[38;5;124;43mTrain Loss\u001b[39;49m\u001b[38;5;124;43m'\u001b[39;49m\u001b[43m)\u001b[49m\n\u001b[0;32m      5\u001b[0m ax\u001b[38;5;241m.\u001b[39mplot(alpha, modelsTestLossArr, color\u001b[38;5;241m=\u001b[39m\u001b[38;5;124m\"\u001b[39m\u001b[38;5;124mblue\u001b[39m\u001b[38;5;124m\"\u001b[39m, marker\u001b[38;5;241m=\u001b[39m\u001b[38;5;124m\"\u001b[39m\u001b[38;5;124mv\u001b[39m\u001b[38;5;124m\"\u001b[39m, label\u001b[38;5;241m=\u001b[39m\u001b[38;5;124m'\u001b[39m\u001b[38;5;124mTest Loss\u001b[39m\u001b[38;5;124m'\u001b[39m)\n\u001b[0;32m      6\u001b[0m ax\u001b[38;5;241m.\u001b[39mset_xlabel(\u001b[38;5;124m\"\u001b[39m\u001b[38;5;124mAlpha\u001b[39m\u001b[38;5;124m\"\u001b[39m, color\u001b[38;5;241m=\u001b[39m\u001b[38;5;124m\"\u001b[39m\u001b[38;5;124mGreen\u001b[39m\u001b[38;5;124m\"\u001b[39m)\n",
      "File \u001b[1;32m~\\anaconda3\\envs\\myenv\\lib\\site-packages\\matplotlib\\axes\\_axes.py:1688\u001b[0m, in \u001b[0;36mAxes.plot\u001b[1;34m(self, scalex, scaley, data, *args, **kwargs)\u001b[0m\n\u001b[0;32m   1445\u001b[0m \u001b[38;5;250m\u001b[39m\u001b[38;5;124;03m\"\"\"\u001b[39;00m\n\u001b[0;32m   1446\u001b[0m \u001b[38;5;124;03mPlot y versus x as lines and/or markers.\u001b[39;00m\n\u001b[0;32m   1447\u001b[0m \n\u001b[1;32m   (...)\u001b[0m\n\u001b[0;32m   1685\u001b[0m \u001b[38;5;124;03m(``'green'``) or hex strings (``'#008000'``).\u001b[39;00m\n\u001b[0;32m   1686\u001b[0m \u001b[38;5;124;03m\"\"\"\u001b[39;00m\n\u001b[0;32m   1687\u001b[0m kwargs \u001b[38;5;241m=\u001b[39m cbook\u001b[38;5;241m.\u001b[39mnormalize_kwargs(kwargs, mlines\u001b[38;5;241m.\u001b[39mLine2D)\n\u001b[1;32m-> 1688\u001b[0m lines \u001b[38;5;241m=\u001b[39m [\u001b[38;5;241m*\u001b[39m\u001b[38;5;28mself\u001b[39m\u001b[38;5;241m.\u001b[39m_get_lines(\u001b[38;5;241m*\u001b[39margs, data\u001b[38;5;241m=\u001b[39mdata, \u001b[38;5;241m*\u001b[39m\u001b[38;5;241m*\u001b[39mkwargs)]\n\u001b[0;32m   1689\u001b[0m \u001b[38;5;28;01mfor\u001b[39;00m line \u001b[38;5;129;01min\u001b[39;00m lines:\n\u001b[0;32m   1690\u001b[0m     \u001b[38;5;28mself\u001b[39m\u001b[38;5;241m.\u001b[39madd_line(line)\n",
      "File \u001b[1;32m~\\anaconda3\\envs\\myenv\\lib\\site-packages\\matplotlib\\axes\\_base.py:311\u001b[0m, in \u001b[0;36m_process_plot_var_args.__call__\u001b[1;34m(self, data, *args, **kwargs)\u001b[0m\n\u001b[0;32m    309\u001b[0m     this \u001b[38;5;241m+\u001b[39m\u001b[38;5;241m=\u001b[39m args[\u001b[38;5;241m0\u001b[39m],\n\u001b[0;32m    310\u001b[0m     args \u001b[38;5;241m=\u001b[39m args[\u001b[38;5;241m1\u001b[39m:]\n\u001b[1;32m--> 311\u001b[0m \u001b[38;5;28;01myield from\u001b[39;00m \u001b[38;5;28;43mself\u001b[39;49m\u001b[38;5;241;43m.\u001b[39;49m\u001b[43m_plot_args\u001b[49m\u001b[43m(\u001b[49m\n\u001b[0;32m    312\u001b[0m \u001b[43m    \u001b[49m\u001b[43mthis\u001b[49m\u001b[43m,\u001b[49m\u001b[43m \u001b[49m\u001b[43mkwargs\u001b[49m\u001b[43m,\u001b[49m\u001b[43m \u001b[49m\u001b[43mambiguous_fmt_datakey\u001b[49m\u001b[38;5;241;43m=\u001b[39;49m\u001b[43mambiguous_fmt_datakey\u001b[49m\u001b[43m)\u001b[49m\n",
      "File \u001b[1;32m~\\anaconda3\\envs\\myenv\\lib\\site-packages\\matplotlib\\axes\\_base.py:504\u001b[0m, in \u001b[0;36m_process_plot_var_args._plot_args\u001b[1;34m(self, tup, kwargs, return_kwargs, ambiguous_fmt_datakey)\u001b[0m\n\u001b[0;32m    501\u001b[0m     \u001b[38;5;28mself\u001b[39m\u001b[38;5;241m.\u001b[39maxes\u001b[38;5;241m.\u001b[39myaxis\u001b[38;5;241m.\u001b[39mupdate_units(y)\n\u001b[0;32m    503\u001b[0m \u001b[38;5;28;01mif\u001b[39;00m x\u001b[38;5;241m.\u001b[39mshape[\u001b[38;5;241m0\u001b[39m] \u001b[38;5;241m!=\u001b[39m y\u001b[38;5;241m.\u001b[39mshape[\u001b[38;5;241m0\u001b[39m]:\n\u001b[1;32m--> 504\u001b[0m     \u001b[38;5;28;01mraise\u001b[39;00m \u001b[38;5;167;01mValueError\u001b[39;00m(\u001b[38;5;124mf\u001b[39m\u001b[38;5;124m\"\u001b[39m\u001b[38;5;124mx and y must have same first dimension, but \u001b[39m\u001b[38;5;124m\"\u001b[39m\n\u001b[0;32m    505\u001b[0m                      \u001b[38;5;124mf\u001b[39m\u001b[38;5;124m\"\u001b[39m\u001b[38;5;124mhave shapes \u001b[39m\u001b[38;5;132;01m{\u001b[39;00mx\u001b[38;5;241m.\u001b[39mshape\u001b[38;5;132;01m}\u001b[39;00m\u001b[38;5;124m and \u001b[39m\u001b[38;5;132;01m{\u001b[39;00my\u001b[38;5;241m.\u001b[39mshape\u001b[38;5;132;01m}\u001b[39;00m\u001b[38;5;124m\"\u001b[39m)\n\u001b[0;32m    506\u001b[0m \u001b[38;5;28;01mif\u001b[39;00m x\u001b[38;5;241m.\u001b[39mndim \u001b[38;5;241m>\u001b[39m \u001b[38;5;241m2\u001b[39m \u001b[38;5;129;01mor\u001b[39;00m y\u001b[38;5;241m.\u001b[39mndim \u001b[38;5;241m>\u001b[39m \u001b[38;5;241m2\u001b[39m:\n\u001b[0;32m    507\u001b[0m     \u001b[38;5;28;01mraise\u001b[39;00m \u001b[38;5;167;01mValueError\u001b[39;00m(\u001b[38;5;124mf\u001b[39m\u001b[38;5;124m\"\u001b[39m\u001b[38;5;124mx and y can be no greater than 2D, but have \u001b[39m\u001b[38;5;124m\"\u001b[39m\n\u001b[0;32m    508\u001b[0m                      \u001b[38;5;124mf\u001b[39m\u001b[38;5;124m\"\u001b[39m\u001b[38;5;124mshapes \u001b[39m\u001b[38;5;132;01m{\u001b[39;00mx\u001b[38;5;241m.\u001b[39mshape\u001b[38;5;132;01m}\u001b[39;00m\u001b[38;5;124m and \u001b[39m\u001b[38;5;132;01m{\u001b[39;00my\u001b[38;5;241m.\u001b[39mshape\u001b[38;5;132;01m}\u001b[39;00m\u001b[38;5;124m\"\u001b[39m)\n",
      "\u001b[1;31mValueError\u001b[0m: x and y must have same first dimension, but have shapes (31,) and (0,)"
     ]
    },
    {
     "data": {
      "image/png": "[encoded data removed]",
      "text/plain": [
       "<Figure size 640x480 with 1 Axes>"
      ]
     },
     "metadata": {},
     "output_type": "display_data"
    }
   ],
   "source": [
    "fig, ax = plt.subplots()\n",
    "ax.plot(alpha, modelsTrainLossArr, color=\"blue\", linestyle='dashed', marker=\"o\", label='Train Loss')\n",
    "ax.plot(alpha, modelsTestLossArr, color=\"blue\", marker=\"v\", label='Test Loss')\n",
    "ax.set_xlabel(\"Alpha\", color=\"Green\")\n",
    "ax.set_ylabel(\"CrossEntropy Loss\", color=\"blue\")\n",
    "ax.legend(loc=\"center left\")"
   ]
  },
  {
   "cell_type": "code",
   "execution_count": 48,
   "metadata": {},
   "outputs": [
    {
     "ename": "ValueError",
     "evalue": "x and y must have same first dimension, but have shapes (31,) and (0,)",
     "output_type": "error",
     "traceback": [
      "\u001b[1;31m---------------------------------------------------------------------------\u001b[0m",
      "\u001b[1;31mValueError\u001b[0m                                Traceback (most recent call last)",
      "Cell \u001b[1;32mIn[48], line 3\u001b[0m\n\u001b[0;32m      1\u001b[0m \u001b[38;5;66;03m# Create a secondary y-axis for accuracy\u001b[39;00m\n\u001b[0;32m      2\u001b[0m ax2 \u001b[38;5;241m=\u001b[39m ax\u001b[38;5;241m.\u001b[39mtwinx()\n\u001b[1;32m----> 3\u001b[0m \u001b[43max2\u001b[49m\u001b[38;5;241;43m.\u001b[39;49m\u001b[43mplot\u001b[49m\u001b[43m(\u001b[49m\u001b[43malpha\u001b[49m\u001b[43m,\u001b[49m\u001b[43m \u001b[49m\u001b[43mmodelsTrainAccArr\u001b[49m\u001b[43m,\u001b[49m\u001b[43m \u001b[49m\u001b[43mcolor\u001b[49m\u001b[38;5;241;43m=\u001b[39;49m\u001b[38;5;124;43m\"\u001b[39;49m\u001b[38;5;124;43mred\u001b[39;49m\u001b[38;5;124;43m\"\u001b[39;49m\u001b[43m,\u001b[49m\u001b[43m \u001b[49m\u001b[43mlinestyle\u001b[49m\u001b[38;5;241;43m=\u001b[39;49m\u001b[38;5;124;43m'\u001b[39;49m\u001b[38;5;124;43mdashed\u001b[39;49m\u001b[38;5;124;43m'\u001b[39;49m\u001b[43m,\u001b[49m\u001b[43m \u001b[49m\u001b[43mmarker\u001b[49m\u001b[38;5;241;43m=\u001b[39;49m\u001b[38;5;124;43m\"\u001b[39;49m\u001b[38;5;124;43mo\u001b[39;49m\u001b[38;5;124;43m\"\u001b[39;49m\u001b[43m,\u001b[49m\u001b[43m \u001b[49m\u001b[43mlabel\u001b[49m\u001b[38;5;241;43m=\u001b[39;49m\u001b[38;5;124;43m'\u001b[39;49m\u001b[38;5;124;43mTrain Acc\u001b[39;49m\u001b[38;5;124;43m'\u001b[39;49m\u001b[43m)\u001b[49m\n\u001b[0;32m      4\u001b[0m ax2\u001b[38;5;241m.\u001b[39mplot(alpha, modelsTestAccArr, color\u001b[38;5;241m=\u001b[39m\u001b[38;5;124m\"\u001b[39m\u001b[38;5;124mred\u001b[39m\u001b[38;5;124m\"\u001b[39m, marker\u001b[38;5;241m=\u001b[39m\u001b[38;5;124m\"\u001b[39m\u001b[38;5;124mv\u001b[39m\u001b[38;5;124m\"\u001b[39m, label\u001b[38;5;241m=\u001b[39m\u001b[38;5;124m'\u001b[39m\u001b[38;5;124mTest Acc\u001b[39m\u001b[38;5;124m'\u001b[39m)\n\u001b[0;32m      5\u001b[0m ax2\u001b[38;5;241m.\u001b[39mset_ylabel(\u001b[38;5;124m\"\u001b[39m\u001b[38;5;124mAccuracy\u001b[39m\u001b[38;5;124m\"\u001b[39m, color\u001b[38;5;241m=\u001b[39m\u001b[38;5;124m\"\u001b[39m\u001b[38;5;124mred\u001b[39m\u001b[38;5;124m\"\u001b[39m)\n",
      "File \u001b[1;32m~\\anaconda3\\envs\\myenv\\lib\\site-packages\\matplotlib\\axes\\_axes.py:1688\u001b[0m, in \u001b[0;36mAxes.plot\u001b[1;34m(self, scalex, scaley, data, *args, **kwargs)\u001b[0m\n\u001b[0;32m   1445\u001b[0m \u001b[38;5;250m\u001b[39m\u001b[38;5;124;03m\"\"\"\u001b[39;00m\n\u001b[0;32m   1446\u001b[0m \u001b[38;5;124;03mPlot y versus x as lines and/or markers.\u001b[39;00m\n\u001b[0;32m   1447\u001b[0m \n\u001b[1;32m   (...)\u001b[0m\n\u001b[0;32m   1685\u001b[0m \u001b[38;5;124;03m(``'green'``) or hex strings (``'#008000'``).\u001b[39;00m\n\u001b[0;32m   1686\u001b[0m \u001b[38;5;124;03m\"\"\"\u001b[39;00m\n\u001b[0;32m   1687\u001b[0m kwargs \u001b[38;5;241m=\u001b[39m cbook\u001b[38;5;241m.\u001b[39mnormalize_kwargs(kwargs, mlines\u001b[38;5;241m.\u001b[39mLine2D)\n\u001b[1;32m-> 1688\u001b[0m lines \u001b[38;5;241m=\u001b[39m [\u001b[38;5;241m*\u001b[39m\u001b[38;5;28mself\u001b[39m\u001b[38;5;241m.\u001b[39m_get_lines(\u001b[38;5;241m*\u001b[39margs, data\u001b[38;5;241m=\u001b[39mdata, \u001b[38;5;241m*\u001b[39m\u001b[38;5;241m*\u001b[39mkwargs)]\n\u001b[0;32m   1689\u001b[0m \u001b[38;5;28;01mfor\u001b[39;00m line \u001b[38;5;129;01min\u001b[39;00m lines:\n\u001b[0;32m   1690\u001b[0m     \u001b[38;5;28mself\u001b[39m\u001b[38;5;241m.\u001b[39madd_line(line)\n",
      "File \u001b[1;32m~\\anaconda3\\envs\\myenv\\lib\\site-packages\\matplotlib\\axes\\_base.py:311\u001b[0m, in \u001b[0;36m_process_plot_var_args.__call__\u001b[1;34m(self, data, *args, **kwargs)\u001b[0m\n\u001b[0;32m    309\u001b[0m     this \u001b[38;5;241m+\u001b[39m\u001b[38;5;241m=\u001b[39m args[\u001b[38;5;241m0\u001b[39m],\n\u001b[0;32m    310\u001b[0m     args \u001b[38;5;241m=\u001b[39m args[\u001b[38;5;241m1\u001b[39m:]\n\u001b[1;32m--> 311\u001b[0m \u001b[38;5;28;01myield from\u001b[39;00m \u001b[38;5;28;43mself\u001b[39;49m\u001b[38;5;241;43m.\u001b[39;49m\u001b[43m_plot_args\u001b[49m\u001b[43m(\u001b[49m\n\u001b[0;32m    312\u001b[0m \u001b[43m    \u001b[49m\u001b[43mthis\u001b[49m\u001b[43m,\u001b[49m\u001b[43m \u001b[49m\u001b[43mkwargs\u001b[49m\u001b[43m,\u001b[49m\u001b[43m \u001b[49m\u001b[43mambiguous_fmt_datakey\u001b[49m\u001b[38;5;241;43m=\u001b[39;49m\u001b[43mambiguous_fmt_datakey\u001b[49m\u001b[43m)\u001b[49m\n",
      "File \u001b[1;32m~\\anaconda3\\envs\\myenv\\lib\\site-packages\\matplotlib\\axes\\_base.py:504\u001b[0m, in \u001b[0;36m_process_plot_var_args._plot_args\u001b[1;34m(self, tup, kwargs, return_kwargs, ambiguous_fmt_datakey)\u001b[0m\n\u001b[0;32m    501\u001b[0m     \u001b[38;5;28mself\u001b[39m\u001b[38;5;241m.\u001b[39maxes\u001b[38;5;241m.\u001b[39myaxis\u001b[38;5;241m.\u001b[39mupdate_units(y)\n\u001b[0;32m    503\u001b[0m \u001b[38;5;28;01mif\u001b[39;00m x\u001b[38;5;241m.\u001b[39mshape[\u001b[38;5;241m0\u001b[39m] \u001b[38;5;241m!=\u001b[39m y\u001b[38;5;241m.\u001b[39mshape[\u001b[38;5;241m0\u001b[39m]:\n\u001b[1;32m--> 504\u001b[0m     \u001b[38;5;28;01mraise\u001b[39;00m \u001b[38;5;167;01mValueError\u001b[39;00m(\u001b[38;5;124mf\u001b[39m\u001b[38;5;124m\"\u001b[39m\u001b[38;5;124mx and y must have same first dimension, but \u001b[39m\u001b[38;5;124m\"\u001b[39m\n\u001b[0;32m    505\u001b[0m                      \u001b[38;5;124mf\u001b[39m\u001b[38;5;124m\"\u001b[39m\u001b[38;5;124mhave shapes \u001b[39m\u001b[38;5;132;01m{\u001b[39;00mx\u001b[38;5;241m.\u001b[39mshape\u001b[38;5;132;01m}\u001b[39;00m\u001b[38;5;124m and \u001b[39m\u001b[38;5;132;01m{\u001b[39;00my\u001b[38;5;241m.\u001b[39mshape\u001b[38;5;132;01m}\u001b[39;00m\u001b[38;5;124m\"\u001b[39m)\n\u001b[0;32m    506\u001b[0m \u001b[38;5;28;01mif\u001b[39;00m x\u001b[38;5;241m.\u001b[39mndim \u001b[38;5;241m>\u001b[39m \u001b[38;5;241m2\u001b[39m \u001b[38;5;129;01mor\u001b[39;00m y\u001b[38;5;241m.\u001b[39mndim \u001b[38;5;241m>\u001b[39m \u001b[38;5;241m2\u001b[39m:\n\u001b[0;32m    507\u001b[0m     \u001b[38;5;28;01mraise\u001b[39;00m \u001b[38;5;167;01mValueError\u001b[39;00m(\u001b[38;5;124mf\u001b[39m\u001b[38;5;124m\"\u001b[39m\u001b[38;5;124mx and y can be no greater than 2D, but have \u001b[39m\u001b[38;5;124m\"\u001b[39m\n\u001b[0;32m    508\u001b[0m                      \u001b[38;5;124mf\u001b[39m\u001b[38;5;124m\"\u001b[39m\u001b[38;5;124mshapes \u001b[39m\u001b[38;5;132;01m{\u001b[39;00mx\u001b[38;5;241m.\u001b[39mshape\u001b[38;5;132;01m}\u001b[39;00m\u001b[38;5;124m and \u001b[39m\u001b[38;5;132;01m{\u001b[39;00my\u001b[38;5;241m.\u001b[39mshape\u001b[38;5;132;01m}\u001b[39;00m\u001b[38;5;124m\"\u001b[39m)\n",
      "\u001b[1;31mValueError\u001b[0m: x and y must have same first dimension, but have shapes (31,) and (0,)"
     ]
    }
   ],
   "source": [
    "# Create a secondary y-axis for accuracy\n",
    "ax2 = ax.twinx()\n",
    "ax2.plot(alpha, modelsTrainAccArr, color=\"red\", linestyle='dashed', marker=\"o\", label='Train Acc')\n",
    "ax2.plot(alpha, modelsTestAccArr, color=\"red\", marker=\"v\", label='Test Acc')\n",
    "ax2.set_ylabel(\"Accuracy\", color=\"red\")\n",
    "ax2.legend(loc=\"upper right\")\n",
    "\n",
    "plt.show()"
   ]
  },
  {
   "cell_type": "code",
   "execution_count": 32,
   "metadata": {},
   "outputs": [
    {
     "name": "stdout",
     "output_type": "stream",
     "text": [
      "Total no of parameters in Model with Lr=0.001 is:397510\n"
     ]
    }
   ],
   "source": [
    "# Training Model with batch size=600 and Lr 1e-3\n",
    "torch.manual_seed(1)\n",
    "\n",
    "learning_rate = 1e-3\n",
    "mLr1 = M1()\n",
    "loss_func = nn.CrossEntropyLoss()\n",
    "optimizer = torch.optim.Adam(mLr1.parameters(), lr=learning_rate) \n",
    "\n",
    "a=[]\n",
    "for i in mLr1.parameters():\n",
    "    a.append(torch.numel(i))\n",
    "print(f'Total no of parameters in Model with Lr={learning_rate} is:{np.sum(a)}')"
   ]
  },
  {
   "cell_type": "code",
   "execution_count": 33,
   "metadata": {},
   "outputs": [
    {
     "name": "stdout",
     "output_type": "stream",
     "text": [
      "strated\n",
      "Max Epoch Reached[5/5], Step [10/938], Loss: 0.01950\n",
      "Max Epoch Reached[5/5], Step [20/938], Loss: 0.0258\n",
      "Max Epoch Reached[5/5], Step [30/938], Loss: 0.0967\n",
      "Max Epoch Reached[5/5], Step [40/938], Loss: 0.0349\n",
      "Max Epoch Reached[5/5], Step [50/938], Loss: 0.0104\n",
      "Max Epoch Reached[5/5], Step [60/938], Loss: 0.0160\n",
      "Max Epoch Reached[5/5], Step [70/938], Loss: 0.0492\n",
      "Max Epoch Reached[5/5], Step [80/938], Loss: 0.0529\n",
      "Max Epoch Reached[5/5], Step [90/938], Loss: 0.0668\n",
      "Max Epoch Reached[5/5], Step [100/938], Loss: 0.0188\n",
      "Max Epoch Reached[5/5], Step [110/938], Loss: 0.0040\n",
      "Max Epoch Reached[5/5], Step [120/938], Loss: 0.0420\n",
      "Max Epoch Reached[5/5], Step [130/938], Loss: 0.0459\n",
      "Max Epoch Reached[5/5], Step [140/938], Loss: 0.0334\n",
      "Max Epoch Reached[5/5], Step [150/938], Loss: 0.0483\n",
      "Max Epoch Reached[5/5], Step [160/938], Loss: 0.0287\n",
      "Max Epoch Reached[5/5], Step [170/938], Loss: 0.0230\n",
      "Max Epoch Reached[5/5], Step [180/938], Loss: 0.0312\n",
      "Max Epoch Reached[5/5], Step [190/938], Loss: 0.0116\n",
      "Max Epoch Reached[5/5], Step [200/938], Loss: 0.0164\n",
      "Max Epoch Reached[5/5], Step [210/938], Loss: 0.0059\n",
      "Max Epoch Reached[5/5], Step [220/938], Loss: 0.0100\n",
      "Max Epoch Reached[5/5], Step [230/938], Loss: 0.1443\n",
      "Max Epoch Reached[5/5], Step [240/938], Loss: 0.0140\n",
      "Max Epoch Reached[5/5], Step [250/938], Loss: 0.0127\n",
      "Max Epoch Reached[5/5], Step [260/938], Loss: 0.0322\n",
      "Max Epoch Reached[5/5], Step [270/938], Loss: 0.0127\n",
      "Max Epoch Reached[5/5], Step [280/938], Loss: 0.0242\n",
      "Max Epoch Reached[5/5], Step [290/938], Loss: 0.0641\n",
      "Max Epoch Reached[5/5], Step [300/938], Loss: 0.1237\n",
      "Max Epoch Reached[5/5], Step [310/938], Loss: 0.0961\n",
      "Max Epoch Reached[5/5], Step [320/938], Loss: 0.0386\n",
      "Max Epoch Reached[5/5], Step [330/938], Loss: 0.0913\n",
      "Max Epoch Reached[5/5], Step [340/938], Loss: 0.0334\n",
      "Max Epoch Reached[5/5], Step [350/938], Loss: 0.0098\n",
      "Max Epoch Reached[5/5], Step [360/938], Loss: 0.0277\n",
      "Max Epoch Reached[5/5], Step [370/938], Loss: 0.0958\n",
      "Max Epoch Reached[5/5], Step [380/938], Loss: 0.0451\n",
      "Max Epoch Reached[5/5], Step [390/938], Loss: 0.0033\n",
      "Max Epoch Reached[5/5], Step [400/938], Loss: 0.1495\n",
      "Max Epoch Reached[5/5], Step [410/938], Loss: 0.0070\n",
      "Max Epoch Reached[5/5], Step [420/938], Loss: 0.0122\n",
      "Max Epoch Reached[5/5], Step [430/938], Loss: 0.0101\n",
      "Max Epoch Reached[5/5], Step [440/938], Loss: 0.0759\n",
      "Max Epoch Reached[5/5], Step [450/938], Loss: 0.0055\n",
      "Max Epoch Reached[5/5], Step [460/938], Loss: 0.0585\n",
      "Max Epoch Reached[5/5], Step [470/938], Loss: 0.0167\n",
      "Max Epoch Reached[5/5], Step [480/938], Loss: 0.0957\n",
      "Max Epoch Reached[5/5], Step [490/938], Loss: 0.0021\n",
      "Max Epoch Reached[5/5], Step [500/938], Loss: 0.0410\n",
      "Max Epoch Reached[5/5], Step [510/938], Loss: 0.0369\n",
      "Max Epoch Reached[5/5], Step [520/938], Loss: 0.0318\n",
      "Max Epoch Reached[5/5], Step [530/938], Loss: 0.0112\n",
      "Max Epoch Reached[5/5], Step [540/938], Loss: 0.1105\n",
      "Max Epoch Reached[5/5], Step [550/938], Loss: 0.0104\n",
      "Max Epoch Reached[5/5], Step [560/938], Loss: 0.0096\n",
      "Max Epoch Reached[5/5], Step [570/938], Loss: 0.0847\n",
      "Max Epoch Reached[5/5], Step [580/938], Loss: 0.0284\n",
      "Max Epoch Reached[5/5], Step [590/938], Loss: 0.0722\n",
      "Max Epoch Reached[5/5], Step [600/938], Loss: 0.0156\n",
      "Max Epoch Reached[5/5], Step [610/938], Loss: 0.0241\n",
      "Max Epoch Reached[5/5], Step [620/938], Loss: 0.2018\n",
      "Max Epoch Reached[5/5], Step [630/938], Loss: 0.0164\n",
      "Max Epoch Reached[5/5], Step [640/938], Loss: 0.0226\n",
      "Max Epoch Reached[5/5], Step [650/938], Loss: 0.0189\n",
      "Max Epoch Reached[5/5], Step [660/938], Loss: 0.0494\n",
      "Max Epoch Reached[5/5], Step [670/938], Loss: 0.0302\n",
      "Max Epoch Reached[5/5], Step [680/938], Loss: 0.0402\n",
      "Max Epoch Reached[5/5], Step [690/938], Loss: 0.0794\n",
      "Max Epoch Reached[5/5], Step [700/938], Loss: 0.0277\n",
      "Max Epoch Reached[5/5], Step [710/938], Loss: 0.0302\n",
      "Max Epoch Reached[5/5], Step [720/938], Loss: 0.0450\n",
      "Max Epoch Reached[5/5], Step [730/938], Loss: 0.0082\n",
      "Max Epoch Reached[5/5], Step [740/938], Loss: 0.0094\n",
      "Max Epoch Reached[5/5], Step [750/938], Loss: 0.0147\n",
      "Max Epoch Reached[5/5], Step [760/938], Loss: 0.0215\n",
      "Max Epoch Reached[5/5], Step [770/938], Loss: 0.0091\n",
      "Max Epoch Reached[5/5], Step [780/938], Loss: 0.0175\n",
      "Max Epoch Reached[5/5], Step [790/938], Loss: 0.0460\n",
      "Max Epoch Reached[5/5], Step [800/938], Loss: 0.0186\n",
      "Max Epoch Reached[5/5], Step [810/938], Loss: 0.0092\n",
      "Max Epoch Reached[5/5], Step [820/938], Loss: 0.0135\n",
      "Max Epoch Reached[5/5], Step [830/938], Loss: 0.0298\n",
      "Max Epoch Reached[5/5], Step [840/938], Loss: 0.0533\n",
      "Max Epoch Reached[5/5], Step [850/938], Loss: 0.1001\n",
      "Max Epoch Reached[5/5], Step [860/938], Loss: 0.0242\n",
      "Max Epoch Reached[5/5], Step [870/938], Loss: 0.0294\n",
      "Max Epoch Reached[5/5], Step [880/938], Loss: 0.0596\n",
      "Max Epoch Reached[5/5], Step [890/938], Loss: 0.0268\n",
      "Max Epoch Reached[5/5], Step [900/938], Loss: 0.0045\n",
      "Max Epoch Reached[5/5], Step [910/938], Loss: 0.0510\n",
      "Max Epoch Reached[5/5], Step [920/938], Loss: 0.0286\n",
      "Max Epoch Reached[5/5], Step [930/938], Loss: 0.0042\n"
     ]
    }
   ],
   "source": [
    "max_epochs = 5\n",
    "train_batch_size = 64\n",
    "status = 10\n",
    "L1_train_epoch,L1_train_losses,L1_train_acc,L1_trainAvgLossArr,L1_trainAvgAccArr  = trainFunc(mLr1,max_epochs,train_batch_size,status)"
   ]
  },
  {
   "cell_type": "code",
   "execution_count": 34,
   "metadata": {},
   "outputs": [
    {
     "name": "stdout",
     "output_type": "stream",
     "text": [
      "tensor([ 0.0184, -0.0158, -0.0069,  ..., -0.0065,  0.0338, -0.0246],\n",
      "       grad_fn=<CatBackward0>) \n",
      "len: 397510\n"
     ]
    }
   ],
   "source": [
    "Lr1_param = torch.nn.utils.parameters_to_vector(mLr1.parameters())\n",
    "print(Lr1_param,'\\nlen:',len(Lr1_param))"
   ]
  },
  {
   "cell_type": "code",
   "execution_count": 35,
   "metadata": {},
   "outputs": [
    {
     "name": "stdout",
     "output_type": "stream",
     "text": [
      "Total no of parameters in Model with Lr=0.01 is:397510\n"
     ]
    }
   ],
   "source": [
    "torch.manual_seed(1)\n",
    "learning_rate = 1e-2\n",
    "mLr2 = M1()\n",
    "loss_func = nn.CrossEntropyLoss()\n",
    "optimizer = torch.optim.Adam(mLr2.parameters(), lr=learning_rate) \n",
    "\n",
    "a=[]\n",
    "for i in mLr2.parameters():\n",
    "    a.append(torch.numel(i))\n",
    "print(f'Total no of parameters in Model with Lr={learning_rate} is:{np.sum(a)}')"
   ]
  },
  {
   "cell_type": "code",
   "execution_count": 36,
   "metadata": {},
   "outputs": [
    {
     "name": "stdout",
     "output_type": "stream",
     "text": [
      "strated\n",
      "Max Epoch Reached[5/5], Step [10/938], Loss: 0.14121\n",
      "Max Epoch Reached[5/5], Step [20/938], Loss: 0.1069\n",
      "Max Epoch Reached[5/5], Step [30/938], Loss: 0.0612\n",
      "Max Epoch Reached[5/5], Step [40/938], Loss: 0.0998\n",
      "Max Epoch Reached[5/5], Step [50/938], Loss: 0.0179\n",
      "Max Epoch Reached[5/5], Step [60/938], Loss: 0.0409\n",
      "Max Epoch Reached[5/5], Step [70/938], Loss: 0.0562\n",
      "Max Epoch Reached[5/5], Step [80/938], Loss: 0.0840\n",
      "Max Epoch Reached[5/5], Step [90/938], Loss: 0.1083\n",
      "Max Epoch Reached[5/5], Step [100/938], Loss: 0.0582\n",
      "Max Epoch Reached[5/5], Step [110/938], Loss: 0.1197\n",
      "Max Epoch Reached[5/5], Step [120/938], Loss: 0.0530\n",
      "Max Epoch Reached[5/5], Step [130/938], Loss: 0.0934\n",
      "Max Epoch Reached[5/5], Step [140/938], Loss: 0.1087\n",
      "Max Epoch Reached[5/5], Step [150/938], Loss: 0.2830\n",
      "Max Epoch Reached[5/5], Step [160/938], Loss: 0.1189\n",
      "Max Epoch Reached[5/5], Step [170/938], Loss: 0.0998\n",
      "Max Epoch Reached[5/5], Step [180/938], Loss: 0.3146\n",
      "Max Epoch Reached[5/5], Step [190/938], Loss: 0.1603\n",
      "Max Epoch Reached[5/5], Step [200/938], Loss: 0.0824\n",
      "Max Epoch Reached[5/5], Step [210/938], Loss: 0.0009\n",
      "Max Epoch Reached[5/5], Step [220/938], Loss: 0.0867\n",
      "Max Epoch Reached[5/5], Step [230/938], Loss: 0.2663\n",
      "Max Epoch Reached[5/5], Step [240/938], Loss: 0.0450\n",
      "Max Epoch Reached[5/5], Step [250/938], Loss: 0.0570\n",
      "Max Epoch Reached[5/5], Step [260/938], Loss: 0.0364\n",
      "Max Epoch Reached[5/5], Step [270/938], Loss: 0.0742\n",
      "Max Epoch Reached[5/5], Step [280/938], Loss: 0.1777\n",
      "Max Epoch Reached[5/5], Step [290/938], Loss: 0.0474\n",
      "Max Epoch Reached[5/5], Step [300/938], Loss: 0.1305\n",
      "Max Epoch Reached[5/5], Step [310/938], Loss: 0.1050\n",
      "Max Epoch Reached[5/5], Step [320/938], Loss: 0.0472\n",
      "Max Epoch Reached[5/5], Step [330/938], Loss: 0.0437\n",
      "Max Epoch Reached[5/5], Step [340/938], Loss: 0.0592\n",
      "Max Epoch Reached[5/5], Step [350/938], Loss: 0.0267\n",
      "Max Epoch Reached[5/5], Step [360/938], Loss: 0.1763\n",
      "Max Epoch Reached[5/5], Step [370/938], Loss: 0.2486\n",
      "Max Epoch Reached[5/5], Step [380/938], Loss: 0.0097\n",
      "Max Epoch Reached[5/5], Step [390/938], Loss: 0.0013\n",
      "Max Epoch Reached[5/5], Step [400/938], Loss: 0.3915\n",
      "Max Epoch Reached[5/5], Step [410/938], Loss: 0.0021\n",
      "Max Epoch Reached[5/5], Step [420/938], Loss: 0.1277\n",
      "Max Epoch Reached[5/5], Step [430/938], Loss: 0.0578\n",
      "Max Epoch Reached[5/5], Step [440/938], Loss: 0.1335\n",
      "Max Epoch Reached[5/5], Step [450/938], Loss: 0.0137\n",
      "Max Epoch Reached[5/5], Step [460/938], Loss: 0.1441\n",
      "Max Epoch Reached[5/5], Step [470/938], Loss: 0.0038\n",
      "Max Epoch Reached[5/5], Step [480/938], Loss: 0.1086\n",
      "Max Epoch Reached[5/5], Step [490/938], Loss: 0.0038\n",
      "Max Epoch Reached[5/5], Step [500/938], Loss: 0.4173\n",
      "Max Epoch Reached[5/5], Step [510/938], Loss: 0.0169\n",
      "Max Epoch Reached[5/5], Step [520/938], Loss: 0.0022\n",
      "Max Epoch Reached[5/5], Step [530/938], Loss: 0.0155\n",
      "Max Epoch Reached[5/5], Step [540/938], Loss: 0.2767\n",
      "Max Epoch Reached[5/5], Step [550/938], Loss: 0.0059\n",
      "Max Epoch Reached[5/5], Step [560/938], Loss: 0.0025\n",
      "Max Epoch Reached[5/5], Step [570/938], Loss: 0.1542\n",
      "Max Epoch Reached[5/5], Step [580/938], Loss: 0.0708\n",
      "Max Epoch Reached[5/5], Step [590/938], Loss: 0.1178\n",
      "Max Epoch Reached[5/5], Step [600/938], Loss: 0.0415\n",
      "Max Epoch Reached[5/5], Step [610/938], Loss: 0.1412\n",
      "Max Epoch Reached[5/5], Step [620/938], Loss: 0.2810\n",
      "Max Epoch Reached[5/5], Step [630/938], Loss: 0.0087\n",
      "Max Epoch Reached[5/5], Step [640/938], Loss: 0.0181\n",
      "Max Epoch Reached[5/5], Step [650/938], Loss: 0.0491\n",
      "Max Epoch Reached[5/5], Step [660/938], Loss: 0.2552\n",
      "Max Epoch Reached[5/5], Step [670/938], Loss: 0.1741\n",
      "Max Epoch Reached[5/5], Step [680/938], Loss: 0.2903\n",
      "Max Epoch Reached[5/5], Step [690/938], Loss: 0.0626\n",
      "Max Epoch Reached[5/5], Step [700/938], Loss: 0.3454\n",
      "Max Epoch Reached[5/5], Step [710/938], Loss: 0.2477\n",
      "Max Epoch Reached[5/5], Step [720/938], Loss: 0.1703\n",
      "Max Epoch Reached[5/5], Step [730/938], Loss: 0.1015\n",
      "Max Epoch Reached[5/5], Step [740/938], Loss: 0.0076\n",
      "Max Epoch Reached[5/5], Step [750/938], Loss: 0.0147\n",
      "Max Epoch Reached[5/5], Step [760/938], Loss: 0.0849\n",
      "Max Epoch Reached[5/5], Step [770/938], Loss: 0.0578\n",
      "Max Epoch Reached[5/5], Step [780/938], Loss: 0.0085\n",
      "Max Epoch Reached[5/5], Step [790/938], Loss: 0.0593\n",
      "Max Epoch Reached[5/5], Step [800/938], Loss: 0.1030\n",
      "Max Epoch Reached[5/5], Step [810/938], Loss: 0.0196\n",
      "Max Epoch Reached[5/5], Step [820/938], Loss: 0.0077\n",
      "Max Epoch Reached[5/5], Step [830/938], Loss: 0.0896\n",
      "Max Epoch Reached[5/5], Step [840/938], Loss: 0.1349\n",
      "Max Epoch Reached[5/5], Step [850/938], Loss: 0.2147\n",
      "Max Epoch Reached[5/5], Step [860/938], Loss: 0.1532\n",
      "Max Epoch Reached[5/5], Step [870/938], Loss: 0.2466\n",
      "Max Epoch Reached[5/5], Step [880/938], Loss: 0.0905\n",
      "Max Epoch Reached[5/5], Step [890/938], Loss: 0.1117\n",
      "Max Epoch Reached[5/5], Step [900/938], Loss: 0.0436\n",
      "Max Epoch Reached[5/5], Step [910/938], Loss: 0.1627\n",
      "Max Epoch Reached[5/5], Step [920/938], Loss: 0.0385\n",
      "Max Epoch Reached[5/5], Step [930/938], Loss: 0.0017\n"
     ]
    }
   ],
   "source": [
    "max_epochs = 5\n",
    "train_batch_size = 64\n",
    "status = 10\n",
    "L2_train_epoch,L2_train_losses,L2_train_acc,L2_trainAvgLossArr,L2_trainAvgAccArr  = trainFunc(mLr2,max_epochs,train_batch_size,status)"
   ]
  },
  {
   "cell_type": "code",
   "execution_count": 25,
   "metadata": {},
   "outputs": [],
   "source": [
    "epochArr = np.array(np.linspace(1,max_epochs,max_epochs))"
   ]
  },
  {
   "cell_type": "code",
   "execution_count": 26,
   "metadata": {},
   "outputs": [
    {
     "ename": "NameError",
     "evalue": "name 'L1_trainAvgLossArr' is not defined",
     "output_type": "error",
     "traceback": [
      "\u001b[1;31m---------------------------------------------------------------------------\u001b[0m",
      "\u001b[1;31mNameError\u001b[0m                                 Traceback (most recent call last)",
      "Cell \u001b[1;32mIn[26], line 3\u001b[0m\n\u001b[0;32m      1\u001b[0m \u001b[38;5;66;03m#Plotting Loss plot for both Batch 1 and Batch 2 models\u001b[39;00m\n\u001b[0;32m      2\u001b[0m plt\u001b[38;5;241m.\u001b[39mfigure(figsize\u001b[38;5;241m=\u001b[39m(\u001b[38;5;241m20\u001b[39m, \u001b[38;5;241m8\u001b[39m))\n\u001b[1;32m----> 3\u001b[0m plt\u001b[38;5;241m.\u001b[39mplot(epochArr,\u001b[43mL1_trainAvgLossArr\u001b[49m,color\u001b[38;5;241m=\u001b[39m\u001b[38;5;124m\"\u001b[39m\u001b[38;5;124mblue\u001b[39m\u001b[38;5;124m\"\u001b[39m)\n\u001b[0;32m      4\u001b[0m plt\u001b[38;5;241m.\u001b[39mplot(epochArr,L2_trainAvgLossArr,color\u001b[38;5;241m=\u001b[39m\u001b[38;5;124m\"\u001b[39m\u001b[38;5;124morange\u001b[39m\u001b[38;5;124m\"\u001b[39m)\n\u001b[0;32m      5\u001b[0m plt\u001b[38;5;241m.\u001b[39mtitle(\u001b[38;5;124m'\u001b[39m\u001b[38;5;124mLr1 & Lr2 Loss VS Epoch\u001b[39m\u001b[38;5;124m'\u001b[39m,color\u001b[38;5;241m=\u001b[39m\u001b[38;5;124m\"\u001b[39m\u001b[38;5;124mgreen\u001b[39m\u001b[38;5;124m\"\u001b[39m)\n",
      "\u001b[1;31mNameError\u001b[0m: name 'L1_trainAvgLossArr' is not defined"
     ]
    },
    {
     "data": {
      "text/plain": [
       "<Figure size 2000x800 with 0 Axes>"
      ]
     },
     "metadata": {},
     "output_type": "display_data"
    }
   ],
   "source": [
    "#Plotting Loss plot for both Batch 1 and Batch 2 models\n",
    "plt.figure(figsize=(20, 8))\n",
    "plt.plot(epochArr,L1_trainAvgLossArr,color=\"blue\")\n",
    "plt.plot(epochArr,L2_trainAvgLossArr,color=\"orange\")\n",
    "plt.title('Lr1 & Lr2 Loss VS Epoch',color=\"green\")\n",
    "plt.legend(['LR1:1e-3 1','LR2:1e-2'])\n",
    "plt.xlabel ('Epoch')\n",
    "plt.ylabel ('loss')\n",
    "plt.show()"
   ]
  },
  {
   "cell_type": "code",
   "execution_count": null,
   "metadata": {},
   "outputs": [],
   "source": [
    "Lr2_param = torch.nn.utils.parameters_to_vector(mLr2.parameters())\n",
    "print(Lr2_param,'\\nlen:',len(Lr2_param))"
   ]
  },
  {
   "cell_type": "code",
   "execution_count": null,
   "metadata": {},
   "outputs": [],
   "source": [
    "modelsTrainEpochArr2 = []\n",
    "modelsTrainLossArr2 = []\n",
    "modelsTrainAccArr2 = []\n",
    "modelsTestLossArr2 = []\n",
    "modelsTestAccArr2 = []\n",
    "\n",
    "for i in range (len(thetaArr)):\n",
    "    torch.manual_seed(1)\n",
    "    j=copy.deepcopy(i) \n",
    "    theta = (1-alpha[i])*Lr1_param + alpha[i]*Lr2_param\n",
    "    j = M1()\n",
    "    torch.nn.utils.vector_to_parameters(theta,j.parameters())\n",
    "    loss_func = nn.CrossEntropyLoss()\n",
    "    optimizer = torch.optim.Adam(j.parameters(), lr=1e-3) #,weight_decay = 0.025)\n",
    "\n",
    "    a=[]\n",
    "    for k in j.parameters():\n",
    "        a.append(torch.numel(k))\n",
    "    print(f'Total no of parameters in Model Theta {i} is:{np.sum(a)}')\n",
    "\n",
    "    print(j.parameters)\n",
    "\n",
    "    max_epochs = 1\n",
    "    train_batch_size = 1000\n",
    "    status = 60\n",
    "    T2_train_epoch,T2_train_losses,T2_train_acc,T2_trainAvgLossArr,T2_trainAvgAccArr = trainFunc(j,max_epochs,train_batch_size,status) #trainFunc(mBatch1,max_epochs,train_batch_size)\n",
    "    \n",
    "    \n",
    "    #modelsTrainEpochArr2.append(T2_trainAvgLossArr)\n",
    "    modelsTrainLossArr2.append(T2_trainAvgLossArr)\n",
    "    modelsTrainAccArr2.append(T2_trainAvgAccArr)\n",
    "    \n",
    "    test_batch_size=1000\n",
    "    T2_acc,T2_testLoss = testFunction(j,loss_func,test_loader,test_batch_size)\n",
    "    modelsTestAccArr2.append(T2_acc)\n",
    "    modelsTestLossArr2.append(T2_testLoss)"
   ]
  },
  {
   "cell_type": "code",
   "execution_count": null,
   "metadata": {},
   "outputs": [],
   "source": [
    "fig,ax=plt.subplots()\n",
    "ax.plot(alpha,(modelsTrainLossArr2),color=\"Blue\",linestyle='dashed', marker=\"o\")\n",
    "ax.plot(alpha,modelsTestLossArr2,color=\"Blue\", marker=\"v\")\n",
    "ax.legend(['Train Loss','Test Loss'],loc=\"center left\")\n",
    "ax.set_xlabel(\"Alpha\",color=\"Green\")\n",
    "ax.set_ylabel(\"CrossEntropy Loss\",color = \"blue\")\n",
    "ax.set_title(\"learning rate 1e-3 vs. 1e-2\",color = \"green\")\n",
    "\n",
    "\n",
    "ax2=ax.twinx()\n",
    "ax2.plot(alpha,(modelsTrainAccArr2),color=\"red\",linestyle='dashed', marker=\"o\")\n",
    "ax2.plot(alpha,modelsTestAccArr2,color=\"red\", marker=\"v\")\n",
    "ax2.set_xlabel(\"Alpha\",color=\"Green\")\n",
    "ax2.set_ylabel(\"Accuracy\",color = \"red\")\n",
    "ax2.legend(['Train Acc','Test Acc'],loc=\"upper right\")\n",
    "\n",
    "plt.show()\n",
    "\n",
    "    "
   ]
  },
  {
   "cell_type": "code",
   "execution_count": null,
   "metadata": {},
   "outputs": [],
   "source": []
  },
  {
   "cell_type": "code",
   "execution_count": null,
   "metadata": {},
   "outputs": [],
   "source": []
  }
 ],
 "metadata": {
  "interpreter": {
   "hash": "d1d86b2f3ed665d691ce24c615a98bbc398f66743afc4d4e970e6f8b36fab2b9"
  },
  "kernelspec": {
   "display_name": "Python 3 (ipykernel)",
   "language": "python",
   "name": "python3"
  },
  "language_info": {
   "codemirror_mode": {
    "name": "ipython",
    "version": 3
   },
   "file_extension": ".py",
   "mimetype": "text/x-python",
   "name": "python",
   "nbconvert_exporter": "python",
   "pygments_lexer": "ipython3",
   "version": "3.8.19"
  }
 },
 "nbformat": 4,
 "nbformat_minor": 4
}
