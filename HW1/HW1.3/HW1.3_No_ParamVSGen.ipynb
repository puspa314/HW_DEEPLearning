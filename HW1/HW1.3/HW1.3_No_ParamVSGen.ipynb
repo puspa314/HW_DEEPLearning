{
 "cells": [
  {
   "cell_type": "code",
   "execution_count": 1,
   "metadata": {},
   "outputs": [],
   "source": [
    "import torch\n",
    "import torch.nn as nn\n",
    "import torch.nn.functional as F\n",
    "import torchvision\n",
    "import torchvision.transforms as transforms\n",
    "import matplotlib.pyplot as plt\n",
    "import numpy as np\n",
    "import copy#"
   ]
  },
  {
   "cell_type": "code",
   "execution_count": 2,
   "metadata": {},
   "outputs": [
    {
     "name": "stdout",
     "output_type": "stream",
     "text": [
      "train_dataset size: 60000 \n",
      "test_dataset size: 10000\n"
     ]
    }
   ],
   "source": [
    "train_dataset = torchvision.datasets.MNIST(root='./data', \n",
    "                                           train=True, \n",
    "                                           transform=transforms.ToTensor(),  \n",
    "                                           download=False)\n",
    "\n",
    "test_dataset = torchvision.datasets.MNIST(root='./data', \n",
    "                                          train=False, \n",
    "                                          transform=transforms.ToTensor())\n",
    "\n",
    "print(\"train_dataset size:\", len(train_dataset),\"\\ntest_dataset size:\", len(test_dataset))"
   ]
  },
  {
   "cell_type": "code",
   "execution_count": 4,
   "metadata": {},
   "outputs": [],
   "source": [
    "train_loader = torch.utils.data.DataLoader(dataset=train_dataset, \n",
    "                                           batch_size=600, \n",
    "                                           shuffle=True)\n",
    "\n",
    "test_loader = torch.utils.data.DataLoader(dataset=test_dataset, \n",
    "                                          batch_size=100, \n",
    "                                          shuffle=False)"
   ]
  },
  {
   "cell_type": "code",
   "execution_count": 6,
   "metadata": {},
   "outputs": [],
   "source": [
    "class M1(nn.Module):\n",
    "    def __init__(self):\n",
    "        super(M1, self).__init__()\n",
    "        \n",
    "        self.fc1 = nn.Linear(784, 50)\n",
    "        self.fc2 = nn.Linear(50, 10)\n",
    "\n",
    "    def forward(self, x):\n",
    "        x = x.reshape(x.shape[0], -1)\n",
    "        x = F.relu(self.fc1(x))\n",
    "        x = self.fc2(x)\n",
    "        return x\n",
    "        "
   ]
  },
  {
   "cell_type": "code",
   "execution_count": 7,
   "metadata": {},
   "outputs": [],
   "source": [
    "class M2(nn.Module):\n",
    "    def __init__(self,):\n",
    "        super(M2, self).__init__()\n",
    "        \n",
    "        self.fc1 = nn.Linear(784, 100)\n",
    "        self.fc2 = nn.Linear(100, 10)\n",
    "\n",
    "    def forward(self, x):\n",
    "        x = x.reshape(x.shape[0], -1)\n",
    "        x = F.relu(self.fc1(x))\n",
    "        x = self.fc2(x)\n",
    "        return x\n",
    "        "
   ]
  },
  {
   "cell_type": "code",
   "execution_count": 8,
   "metadata": {},
   "outputs": [],
   "source": [
    "class M3(nn.Module):\n",
    "    def __init__(self,):\n",
    "        super(M3, self).__init__()\n",
    "\n",
    "        self.fc1 = nn.Linear(784, 250)\n",
    "        self.fc2 = nn.Linear(250, 10)\n",
    "\n",
    "    def forward(self, x):\n",
    "        x = x.reshape(x.shape[0], -1)\n",
    "        x = F.relu(self.fc1(x))\n",
    "        x = self.fc2(x)\n",
    "        return x\n",
    "        "
   ]
  },
  {
   "cell_type": "code",
   "execution_count": 9,
   "metadata": {},
   "outputs": [],
   "source": [
    "class M4(nn.Module):\n",
    "    def __init__(self,):\n",
    "        super(M4, self).__init__()\n",
    "\n",
    "        self.fc1 = nn.Linear(784, 500)\n",
    "        self.fc2 = nn.Linear(500, 10)\n",
    "\n",
    "    def forward(self, x):\n",
    "        x = x.reshape(x.shape[0], -1)\n",
    "        x = F.relu(self.fc1(x))\n",
    "        x = self.fc2(x)\n",
    "        return x\n",
    "        "
   ]
  },
  {
   "cell_type": "code",
   "execution_count": 10,
   "metadata": {},
   "outputs": [],
   "source": [
    "class M5(nn.Module):\n",
    "    def __init__(self,):\n",
    "        super(M5, self).__init__()\n",
    "        \n",
    "        self.fc1 = nn.Linear(784, 550)\n",
    "        self.fc2 = nn.Linear(550, 10)\n",
    "\n",
    "    def forward(self, x):\n",
    "        x = x.reshape(x.shape[0], -1)\n",
    "        x = F.relu(self.fc1(x))\n",
    "        x = self.fc2(x)\n",
    "        return x\n",
    "        "
   ]
  },
  {
   "cell_type": "code",
   "execution_count": 11,
   "metadata": {},
   "outputs": [],
   "source": [
    "class M6(nn.Module):\n",
    "    def __init__(self,):\n",
    "        super(M6, self).__init__()\n",
    "\n",
    "        self.fc1 = nn.Linear(784, 750)\n",
    "        self.fc2 = nn.Linear(750, 10)\n",
    "\n",
    "    def forward(self, x):\n",
    "        x = x.reshape(x.shape[0], -1)\n",
    "        x = F.relu(self.fc1(x))\n",
    "        x = self.fc2(x)\n",
    "        return x\n",
    "        "
   ]
  },
  {
   "cell_type": "code",
   "execution_count": 12,
   "metadata": {},
   "outputs": [],
   "source": [
    "class M7(nn.Module):\n",
    "    def __init__(self,):\n",
    "        super(M7, self).__init__()\n",
    "\n",
    "        self.fc1 = nn.Linear(784, 1000)\n",
    "        self.fc2 = nn.Linear(1000, 10)\n",
    "\n",
    "    def forward(self, x):\n",
    "        x = x.reshape(x.shape[0], -1)\n",
    "        x = F.relu(self.fc1(x))\n",
    "        x = self.fc2(x)\n",
    "        return x\n",
    "        \n",
    "        "
   ]
  },
  {
   "cell_type": "code",
   "execution_count": 13,
   "metadata": {},
   "outputs": [],
   "source": [
    "class M8(nn.Module):\n",
    "    def __init__(self,):\n",
    "        super(M8, self).__init__()\n",
    "        \n",
    "        self.fc1 = nn.Linear(784, 1050)\n",
    "        self.fc2 = nn.Linear(1050, 10)\n",
    "\n",
    "    def forward(self, x):\n",
    "        x = x.reshape(x.shape[0], -1)\n",
    "        x = F.relu(self.fc1(x))\n",
    "        x = self.fc2(x)\n",
    "        return x\n",
    "        "
   ]
  },
  {
   "cell_type": "code",
   "execution_count": 14,
   "metadata": {},
   "outputs": [],
   "source": [
    "class M9(nn.Module):\n",
    "    def __init__(self,):\n",
    "        super(M9, self).__init__()\n",
    "\n",
    "        self.fc1 = nn.Linear(784, 1500)\n",
    "        self.fc2 = nn.Linear(1500, 10)\n",
    "\n",
    "    def forward(self, x):\n",
    "        x = x.reshape(x.shape[0], -1)\n",
    "        x = F.relu(self.fc1(x))\n",
    "        x = self.fc2(x)\n",
    "        return x\n",
    "        "
   ]
  },
  {
   "cell_type": "code",
   "execution_count": 15,
   "metadata": {},
   "outputs": [],
   "source": [
    "class M10(nn.Module):\n",
    "    def __init__(self,):\n",
    "        super(M10, self).__init__()\n",
    "\n",
    "        self.fc1 = nn.Linear(784, 2000)\n",
    "        self.fc2 = nn.Linear(2000, 10)\n",
    "\n",
    "    def forward(self, x):\n",
    "        x = x.reshape(x.shape[0], -1)\n",
    "        x = F.relu(self.fc1(x))\n",
    "        x = self.fc2(x)\n",
    "        return x\n",
    "        "
   ]
  },
  {
   "cell_type": "code",
   "execution_count": 16,
   "metadata": {},
   "outputs": [],
   "source": [
    "input_size = 784 # 28x28\n",
    "max_epochs = 15\n",
    "learning_rate = 0.001\n",
    "kernel_size = 4\n",
    "num_epochs = 10\n",
    "dropout = 0.25"
   ]
  },
  {
   "cell_type": "code",
   "execution_count": 17,
   "metadata": {},
   "outputs": [],
   "source": [
    "def trainFunc(model,num_epochs):\n",
    "    model.train()\n",
    "    n_total_steps = len(train_loader)\n",
    "    train_losses = []\n",
    "    train_epoch = []\n",
    "    train_acc = []\n",
    "    not_converged =True\n",
    "    epoch = 0\n",
    "    trainAvgLoss = []\n",
    "    \n",
    "    while not_converged:\n",
    "        epoch += 1\n",
    "        n_correct = 0\n",
    "        n_samples = 0\n",
    "        lossSum = 0\n",
    "        \n",
    "        for i, (images, labels) in enumerate(train_loader):  \n",
    "          \n",
    "            prediction = model(images)\n",
    "            loss = loss_func(prediction, labels)\n",
    "            lossSum += loss.detach().numpy()\n",
    "         \n",
    "            optimizer.zero_grad()\n",
    "            loss.backward()\n",
    "            optimizer.step()\n",
    "\n",
    "            _, predicted = torch.max(prediction.data, 1)\n",
    "            n_samples += labels.size(0)\n",
    "            n_correct += (predicted == labels).sum().item()\n",
    "            acc = 100.0 * n_correct / n_samples\n",
    "         \n",
    "\n",
    "            if (i+1) % 100 == 0:\n",
    "                print (f'Epoch [{epoch}/{num_epochs}], Step [{i+1}/{n_total_steps}], Loss: {loss.item():.4f}, Accuracy : {acc} %', end = '\\r', flush=True)\n",
    "                train_epoch.append(epoch)\n",
    "                train_losses.append(loss.item())\n",
    "                \n",
    "                train_acc.append(acc)\n",
    "\n",
    "\n",
    "                if epoch == num_epochs:\n",
    "                        print(\"Max Epoch Reached\")\n",
    "                        not_converged = False\n",
    "                elif (epoch > 5) and  (train_losses[-1] < 0.001):\n",
    "                    if abs(train_losses[-3] - train_losses[-2]) < 1.0e-05 and abs(train_losses[-2] - train_losses[-1]) < 1.0e-05:\n",
    "                        print(\"Convergeance reached for loss:\",train_losses[-1])\n",
    "                        not_converged = False\n",
    "                        \n",
    "        trainAvgLoss.append(lossSum/n_total_steps)\n",
    "        \n",
    "        \n",
    "        print(f'For epoch {epoch} AVG_LOSS: {trainAvgLoss[epoch-1]:.4f}',end = '\\r', flush=True)\n",
    "    return train_epoch,train_losses,train_acc,trainAvgLoss"
   ]
  },
  {
   "cell_type": "code",
   "execution_count": 18,
   "metadata": {},
   "outputs": [
    {
     "data": {
      "text/plain": [
       "100"
      ]
     },
     "execution_count": 18,
     "metadata": {},
     "output_type": "execute_result"
    }
   ],
   "source": [
    "len(train_loader)"
   ]
  },
  {
   "cell_type": "code",
   "execution_count": 20,
   "metadata": {},
   "outputs": [],
   "source": [
    "def testFunc(model): \n",
    "    model.eval()\n",
    "    with torch.no_grad():\n",
    "        n_correct = 0\n",
    "        n_samples = 0\n",
    "        testLoss = 0\n",
    "        count = 0\n",
    "        for images, labels in test_loader:\n",
    "            prediction = model(images)\n",
    "            tLoss = loss_func(prediction, labels)\n",
    "            testLoss += tLoss\n",
    "          \n",
    "            _, predicted = torch.max(prediction.data, 1)\n",
    "            n_samples += labels.size(0)\n",
    "            n_correct += (predicted == labels).sum().item()\n",
    "            count += 1\n",
    "\n",
    "        testLoss /= count\n",
    "        netTest_acc1 = 100.0 * n_correct / n_samples\n",
    "\n",
    "        print(f'Accuracy of the network:{model._get_name()} on the test images: {netTest_acc1:.2f} % & loss of the network:{testLoss:.4f}')\n",
    "        return netTest_acc1,testLoss"
   ]
  },
  {
   "cell_type": "code",
   "execution_count": 21,
   "metadata": {},
   "outputs": [
    {
     "name": "stdout",
     "output_type": "stream",
     "text": [
      "Total no of parameters in ModelM1 :39760\n",
      "Max Epoch Reachedep [100/100], Loss: 0.1241, Accuracy : 95.58 %333333333 %\n",
      "Accuracy of the network:M1 on the test images: 95.25 % & loss of the network:0.1607\n",
      "Total no of parameters in ModelM2 :79510\n",
      "Max Epoch Reachedep [100/100], Loss: 0.0885, Accuracy : 96.76 %333333333 %\n",
      "Accuracy of the network:M2 on the test images: 96.43 % & loss of the network:0.1241\n",
      "Total no of parameters in ModelM3 :198760\n",
      "Max Epoch Reachedep [100/100], Loss: 0.0822, Accuracy : 98.04333333333334 %\n",
      "Accuracy of the network:M3 on the test images: 97.24 % & loss of the network:0.0887\n",
      "Total no of parameters in ModelM4 :397510\n",
      "Max Epoch Reachedep [100/100], Loss: 0.0442, Accuracy : 98.77666666666667 %\n",
      "Accuracy of the network:M4 on the test images: 97.61 % & loss of the network:0.0743\n",
      "Total no of parameters in ModelM5 :437260\n",
      "Max Epoch Reachedep [100/100], Loss: 0.0431, Accuracy : 98.84 %333333334 %\n",
      "Accuracy of the network:M5 on the test images: 97.73 % & loss of the network:0.0707\n",
      "Total no of parameters in ModelM6 :596260\n",
      "Max Epoch Reachedep [100/100], Loss: 0.0346, Accuracy : 99.055 %33333334 %\n",
      "Accuracy of the network:M6 on the test images: 97.98 % & loss of the network:0.0662\n",
      "Total no of parameters in ModelM7 :795010\n",
      "Max Epoch Reachedep [100/100], Loss: 0.0453, Accuracy : 99.31166666666667 %\n",
      "Accuracy of the network:M7 on the test images: 97.96 % & loss of the network:0.0630\n",
      "Total no of parameters in ModelM8 :834760\n",
      "Max Epoch Reachedep [100/100], Loss: 0.0264, Accuracy : 99.355 %33333333 %\n",
      "Accuracy of the network:M8 on the test images: 97.84 % & loss of the network:0.0652\n",
      "Total no of parameters in ModelM9 :1192510\n",
      "Max Epoch Reachedep [100/100], Loss: 0.0321, Accuracy : 99.53 %666666667 %\n",
      "Accuracy of the network:M9 on the test images: 98.10 % & loss of the network:0.0593\n",
      "Total no of parameters in ModelM10 :1590010\n",
      "Max Epoch Reachedep [100/100], Loss: 0.0121, Accuracy : 99.64 %333333334 %\n",
      "Accuracy of the network:M10 on the test images: 98.12 % & loss of the network:0.0586\n"
     ]
    }
   ],
   "source": [
    "modelArr = [M1,M2,M3,M4,M5,M6,M7,M8,M9,M10]\n",
    "allTrainLossVal = {}\n",
    "allTrainAccVal = {}\n",
    "allTestLossVal = {}\n",
    "allTestAccVal = {}\n",
    "allModelParamNo = {}\n",
    "for i in range (len(modelArr)):\n",
    "        j = copy.deepcopy(i)\n",
    "        torch.manual_seed(1)\n",
    "        j = modelArr[i]()\n",
    "\n",
    "        loss_func = nn.CrossEntropyLoss()\n",
    "        optimizer = torch.optim.Adam(j.parameters(), lr=learning_rate) #, weight_decay = weight_decay_val)\n",
    "\n",
    "        a=[]\n",
    "        for k in j.parameters():\n",
    "            a.append(torch.numel(k))\n",
    "        modelTotalPrams = np.sum(a)\n",
    "        print(f'Total no of parameters in Model{j._get_name()} :{modelTotalPrams}')\n",
    "\n",
    "        train_epoch,train_losses,train_acc,trainAvgLoss = trainFunc(j,num_epochs)\n",
    "\n",
    "        testAcc,testLoss = testFunc(j)\n",
    "\n",
    "        allTrainLossVal[j._get_name()] = trainAvgLoss\n",
    "        allTrainAccVal[j._get_name()] = train_acc\n",
    "        allTestLossVal[j._get_name()] = testLoss\n",
    "        allTestAccVal[j._get_name()] = testAcc     \n",
    "        allModelParamNo[j._get_name()] = modelTotalPrams "
   ]
  },
  {
   "cell_type": "code",
   "execution_count": 22,
   "metadata": {},
   "outputs": [],
   "source": [
    "model_TrainLoss = [np.min(allTrainLossVal['M1']),np.min(allTrainLossVal['M2']),\n",
    "              np.min(allTrainLossVal['M3']),np.min(allTrainLossVal['M4']),\n",
    "              np.min(allTrainLossVal['M5']),np.min(allTrainLossVal['M6']),\n",
    "              np.min(allTrainLossVal['M7']),np.min(allTrainLossVal['M8']),\n",
    "              np.min(allTrainLossVal['M9']),np.min(allTrainLossVal['M10'])     \n",
    "            ]\n",
    "model_Tparams = [allModelParamNo['M1'],allModelParamNo['M2'],allModelParamNo['M3'],\n",
    "                allModelParamNo['M4'],allModelParamNo['M5'],allModelParamNo['M6'],\n",
    "                allModelParamNo['M7'],allModelParamNo['M8'],allModelParamNo['M9'],\n",
    "                allModelParamNo['M10']\n",
    "                ]\n",
    "model_Testloss = [allTestLossVal['M1'],allTestLossVal['M2'],allTestLossVal['M3'],allTestLossVal['M4'],allTestLossVal['M5'],\n",
    "                  allTestLossVal['M6'],allTestLossVal['M7'],allTestLossVal['M8'],allTestLossVal['M9'],allTestLossVal['M10']     \n",
    "                ]\n",
    "\n"
   ]
  },
  {
   "cell_type": "code",
   "execution_count": 23,
   "metadata": {},
   "outputs": [
    {
     "data": {
      "image/png": "[encoded data removed]",
      "text/plain": [
       "<Figure size 1000x500 with 1 Axes>"
      ]
     },
     "metadata": {},
     "output_type": "display_data"
    }
   ],
   "source": [
    "f = plt.figure()\n",
    "f.set_figwidth(10)\n",
    "f.set_figheight(5)\n",
    "plt.scatter(model_Tparams,model_TrainLoss,color=\"red\")\n",
    "plt.scatter(model_Tparams,model_Testloss,color=\"purple\")\n",
    "plt.xticks(model_Tparams, model_Tparams,rotation=70)\n",
    "plt.legend(['train_loss','test_loss'])\n",
    "plt.title('Train/TestLoss Vs Parameters')\n",
    "\n",
    "\n",
    "plt.show()"
   ]
  },
  {
   "cell_type": "code",
   "execution_count": 24,
   "metadata": {},
   "outputs": [],
   "source": [
    "model_TrainAcc= [np.max(allTrainAccVal['M1']),np.max(allTrainAccVal['M2']),\n",
    "              np.max(allTrainAccVal['M3']),np.max(allTrainAccVal['M4']),\n",
    "              np.max(allTrainAccVal['M5']),np.max(allTrainAccVal['M6']),\n",
    "              np.max(allTrainAccVal['M7']),np.max(allTrainAccVal['M8']),\n",
    "              np.max(allTrainAccVal['M9']),np.max(allTrainAccVal['M10'])     \n",
    "                ]\n",
    "model_TestAcc = [allTestAccVal['M1'],allTestAccVal['M2'],allTestAccVal['M3'],allTestAccVal['M4'],allTestAccVal['M5'],\n",
    "                  allTestAccVal['M6'],allTestAccVal['M7'],allTestAccVal['M8'],allTestAccVal['M9'],allTestAccVal['M10']     \n",
    "                ]\n"
   ]
  },
  {
   "cell_type": "code",
   "execution_count": 25,
   "metadata": {},
   "outputs": [
    {
     "data": {
      "image/png": "[encoded data removed]",
      "text/plain": [
       "<Figure size 1000x500 with 1 Axes>"
      ]
     },
     "metadata": {},
     "output_type": "display_data"
    }
   ],
   "source": [
    "f = plt.figure()\n",
    "f.set_figwidth(10)\n",
    "f.set_figheight(5)\n",
    "plt.scatter(model_Tparams,model_TrainAcc,color=\"red\")\n",
    "plt.scatter(model_Tparams,model_TestAcc,color=\"purple\")\n",
    "plt.xticks(model_Tparams, model_Tparams,rotation=70)\n",
    "plt.legend(['train_Acc','test_Acc'])\n",
    "plt.title('Train/Test Acc Vs Parameters')\n",
    "\n",
    "plt.show()"
   ]
  },
  {
   "cell_type": "code",
   "execution_count": null,
   "metadata": {},
   "outputs": [],
   "source": []
  }
 ],
 "metadata": {
  "interpreter": {
   "hash": "d1d86b2f3ed665d691ce24c615a98bbc398f66743afc4d4e970e6f8b36fab2b9"
  },
  "kernelspec": {
   "display_name": "Python 3 (ipykernel)",
   "language": "python",
   "name": "python3"
  },
  "language_info": {
   "codemirror_mode": {
    "name": "ipython",
    "version": 3
   },
   "file_extension": ".py",
   "mimetype": "text/x-python",
   "name": "python",
   "nbconvert_exporter": "python",
   "pygments_lexer": "ipython3",
   "version": "3.8.19"
  }
 },
 "nbformat": 4,
 "nbformat_minor": 4
}
